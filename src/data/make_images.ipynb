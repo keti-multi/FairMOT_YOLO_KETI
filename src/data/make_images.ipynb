{
 "cells": [
  {
   "cell_type": "code",
   "execution_count": 1,
   "id": "81c1299c-561d-4230-9275-21e5e4143dc6",
   "metadata": {},
   "outputs": [],
   "source": [
    "import cv2"
   ]
  },
  {
   "cell_type": "code",
   "execution_count": 2,
   "id": "ce60ba0a-f889-4958-a9ee-866e445296dc",
   "metadata": {},
   "outputs": [],
   "source": [
    "import os"
   ]
  },
  {
   "cell_type": "code",
   "execution_count": 3,
   "id": "ae2c61a0-76f4-4107-ab33-78058488337b",
   "metadata": {},
   "outputs": [
    {
     "data": {
      "text/plain": [
       "'/media/syh/ssd2/data/jointree_220707_cctv_1'"
      ]
     },
     "execution_count": 3,
     "metadata": {},
     "output_type": "execute_result"
    }
   ],
   "source": [
    "os.getcwd()"
   ]
  },
  {
   "cell_type": "code",
   "execution_count": 4,
   "id": "8088a406-d701-43b6-bba7-2d639f205a28",
   "metadata": {},
   "outputs": [],
   "source": [
    "dir_cam = '/media/syh/hdd/data/20220707'"
   ]
  },
  {
   "cell_type": "code",
   "execution_count": 5,
   "id": "9f94da7b-b948-4e94-a638-7e0573218088",
   "metadata": {},
   "outputs": [],
   "source": [
    "#'/media/syh/hdd/data/20220707/datas/cam-031/20220707010000_mp4'"
   ]
  },
  {
   "cell_type": "code",
   "execution_count": 6,
   "id": "e13b09fd-816c-4c82-a84b-2f5a77278a9a",
   "metadata": {},
   "outputs": [],
   "source": [
    "device_id=\"cctv\""
   ]
  },
  {
   "cell_type": "code",
   "execution_count": 7,
   "id": "369c1aa4-33cc-4147-8c4c-9ffea68e31cf",
   "metadata": {},
   "outputs": [],
   "source": [
    "cam_id=\"1\""
   ]
  },
  {
   "cell_type": "code",
   "execution_count": 7,
   "id": "98a05230-db63-4bf2-a3ef-e5cc2c89a601",
   "metadata": {},
   "outputs": [],
   "source": [
    "db_proj_name=dir_cam.split('/')[-1]#+\"_\"+device_id+\"_\"+cam_id"
   ]
  },
  {
   "cell_type": "code",
   "execution_count": 8,
   "id": "a38cfd8d-1e32-4356-bd9a-14d8fa34284f",
   "metadata": {},
   "outputs": [],
   "source": [
    "db_proj_name=\"jointree_220707_cctv_1\""
   ]
  },
  {
   "cell_type": "code",
   "execution_count": null,
   "id": "12829129-3f24-45c3-9d1c-fc0b3bf79dbc",
   "metadata": {},
   "outputs": [],
   "source": []
  },
  {
   "cell_type": "code",
   "execution_count": 9,
   "id": "c7c0dac3-9d5f-421d-81c5-1076ec5139b6",
   "metadata": {},
   "outputs": [],
   "source": [
    "# 220812 info_robo\n",
    "\n",
    "# dir_cam='/media/syh/hdd/data/from_keti_tool/20220808_infoworks'\n",
    "out_dir = os.getcwd()\n",
    "\n"
   ]
  },
  {
   "cell_type": "code",
   "execution_count": 10,
   "id": "efab477c-b92f-4dab-871f-1a9f8c518e3b",
   "metadata": {},
   "outputs": [],
   "source": [
    "import pathlib\n",
    "pathlib.Path(os.path.join(\"./labels_with_ids/train/\",db_proj_name,\"img1\")).mkdir(parents=True, exist_ok=True)\n",
    "pathlib.Path(os.path.join(\"./labels_with_ids/train/\",db_proj_name,\"img1\").replace(\"labels_with_ids\",\"images\")).mkdir(parents=True, exist_ok=True)"
   ]
  },
  {
   "cell_type": "code",
   "execution_count": 11,
   "id": "f483f2c9-ba45-4e2c-8d0d-989c20a5c8a1",
   "metadata": {},
   "outputs": [],
   "source": [
    "label_loc=os.path.join(\"./labels_with_ids/train/\",db_proj_name,\"img1\")"
   ]
  },
  {
   "cell_type": "code",
   "execution_count": 12,
   "id": "a1f96d9d-b37c-4fce-93c2-4b2875d2c7ce",
   "metadata": {},
   "outputs": [],
   "source": [
    "img_loc=os.path.join(\"./labels_with_ids/train/\",db_proj_name,\"img1\").replace(\"labels_with_ids\",\"images\")"
   ]
  },
  {
   "cell_type": "code",
   "execution_count": 13,
   "id": "df0602a0-3b22-4b64-af61-292e1ff0b837",
   "metadata": {},
   "outputs": [
    {
     "data": {
      "text/plain": [
       "'./images/train/jointree_220707_cctv_1/img1'"
      ]
     },
     "execution_count": 13,
     "metadata": {},
     "output_type": "execute_result"
    }
   ],
   "source": [
    "img_loc"
   ]
  },
  {
   "cell_type": "code",
   "execution_count": 14,
   "id": "9b3bc1d2-cfe2-4ca0-9a3c-3ce477e74dfb",
   "metadata": {},
   "outputs": [
    {
     "data": {
      "text/plain": [
       "'./labels_with_ids/train/jointree_220707_cctv_1/img1'"
      ]
     },
     "execution_count": 14,
     "metadata": {},
     "output_type": "execute_result"
    }
   ],
   "source": [
    "label_loc"
   ]
  },
  {
   "cell_type": "code",
   "execution_count": 15,
   "id": "2b16008f-5885-4a50-bc78-c053b25636cf",
   "metadata": {},
   "outputs": [],
   "source": [
    "dirr=os.path.join(dir_cam,'datas/cam-001')"
   ]
  },
  {
   "cell_type": "code",
   "execution_count": 16,
   "id": "1b4c36a0-9fc5-4abb-8247-4771ffbb5156",
   "metadata": {},
   "outputs": [],
   "source": [
    "dirr=os.path.join(dir_cam,'datas/cam-020')"
   ]
  },
  {
   "cell_type": "code",
   "execution_count": 17,
   "id": "447300fe-ad23-4c69-8db5-242f069482ca",
   "metadata": {},
   "outputs": [
    {
     "data": {
      "text/plain": [
       "'/media/syh/hdd/data/20220707/datas/cam-020'"
      ]
     },
     "execution_count": 17,
     "metadata": {},
     "output_type": "execute_result"
    }
   ],
   "source": [
    "dirr"
   ]
  },
  {
   "cell_type": "code",
   "execution_count": 18,
   "id": "c97f461b-d7d0-43af-b8f8-ff9c3ec2b5a7",
   "metadata": {
    "tags": []
   },
   "outputs": [
    {
     "name": "stdout",
     "output_type": "stream",
     "text": [
      "videos: ['20220707155957_mp4']\n"
     ]
    }
   ],
   "source": [
    "videos=os.listdir(dirr)\n",
    "print(\"videos:\",videos)"
   ]
  },
  {
   "cell_type": "code",
   "execution_count": 19,
   "id": "e96917f9-e175-49d8-9b3c-69a523202e14",
   "metadata": {},
   "outputs": [],
   "source": [
    "vid_num=0"
   ]
  },
  {
   "cell_type": "code",
   "execution_count": 20,
   "id": "a2ce3904-6070-418f-b8ca-4ad7a525d030",
   "metadata": {},
   "outputs": [],
   "source": [
    "videos[vid_num]=videos[vid_num].replace('_','.')"
   ]
  },
  {
   "cell_type": "code",
   "execution_count": 21,
   "id": "58dc1478-89a2-4007-b878-28a1789041bb",
   "metadata": {},
   "outputs": [
    {
     "data": {
      "text/plain": [
       "['20220707155957.mp4']"
      ]
     },
     "execution_count": 21,
     "metadata": {},
     "output_type": "execute_result"
    }
   ],
   "source": [
    "videos"
   ]
  },
  {
   "cell_type": "code",
   "execution_count": 22,
   "id": "b9ba9701-796c-48d3-b4e1-3581a7574a33",
   "metadata": {},
   "outputs": [
    {
     "name": "stdout",
     "output_type": "stream",
     "text": [
      "dirr: /media/syh/hdd/data/20220707/datas/cam-020/20220707155957_mp4\n"
     ]
    }
   ],
   "source": [
    "dirr=os.path.join(dirr,os.listdir(dirr)[vid_num])\n",
    "print(\"dirr:\",dirr)"
   ]
  },
  {
   "cell_type": "code",
   "execution_count": 23,
   "id": "8db69816-69b3-4d1e-86bf-3f057ac647b2",
   "metadata": {},
   "outputs": [],
   "source": [
    "video_loc = os.path.join(dirr,videos[vid_num])"
   ]
  },
  {
   "cell_type": "code",
   "execution_count": 24,
   "id": "5225ed42-c6aa-4deb-9b95-db02ac155026",
   "metadata": {},
   "outputs": [
    {
     "data": {
      "text/plain": [
       "True"
      ]
     },
     "execution_count": 24,
     "metadata": {},
     "output_type": "execute_result"
    }
   ],
   "source": [
    "os.path.exists(video_loc)"
   ]
  },
  {
   "cell_type": "code",
   "execution_count": 25,
   "id": "fd5beb31-7949-4711-98b2-2bd06d8f2e97",
   "metadata": {},
   "outputs": [
    {
     "data": {
      "text/plain": [
       "'/media/syh/hdd/data/20220707/datas/cam-020/20220707155957_mp4/20220707155957.mp4'"
      ]
     },
     "execution_count": 25,
     "metadata": {},
     "output_type": "execute_result"
    }
   ],
   "source": [
    "video_loc"
   ]
  },
  {
   "cell_type": "code",
   "execution_count": 26,
   "id": "e80784da-69a4-47c3-ad83-5a9cf661c3b9",
   "metadata": {},
   "outputs": [
    {
     "name": "stdout",
     "output_type": "stream",
     "text": [
      "/media/syh/ssd2/data/jointree_220707_cctv_1\n"
     ]
    }
   ],
   "source": [
    "!pwd"
   ]
  },
  {
   "cell_type": "code",
   "execution_count": 45,
   "id": "4b4865cf-f6d9-4630-859e-dc6147bcf042",
   "metadata": {
    "tags": []
   },
   "outputs": [
    {
     "name": "stdout",
     "output_type": "stream",
     "text": [
      "./labels_with_ids/train/jointree_220707_kiosk_3_att/img1/000013.txt\n",
      "False\n",
      "./labels_with_ids/train/jointree_220707_kiosk_3_att/img1/000014.txt\n",
      "False\n",
      "./labels_with_ids/train/jointree_220707_kiosk_3_att/img1/000129.txt\n",
      "False\n",
      "./labels_with_ids/train/jointree_220707_kiosk_3_att/img1/000130.txt\n",
      "False\n",
      "./labels_with_ids/train/jointree_220707_kiosk_3_att/img1/000131.txt\n",
      "False\n",
      "./labels_with_ids/train/jointree_220707_kiosk_3_att/img1/000132.txt\n",
      "False\n",
      "./labels_with_ids/train/jointree_220707_kiosk_3_att/img1/000214.txt\n",
      "False\n",
      "./labels_with_ids/train/jointree_220707_kiosk_3_att/img1/000215.txt\n",
      "False\n",
      "./labels_with_ids/train/jointree_220707_kiosk_3_att/img1/000216.txt\n",
      "False\n",
      "./labels_with_ids/train/jointree_220707_kiosk_3_att/img1/000217.txt\n",
      "False\n",
      "./labels_with_ids/train/jointree_220707_kiosk_3_att/img1/000218.txt\n",
      "False\n",
      "./labels_with_ids/train/jointree_220707_kiosk_3_att/img1/000219.txt\n",
      "False\n",
      "./labels_with_ids/train/jointree_220707_kiosk_3_att/img1/000220.txt\n",
      "False\n",
      "./labels_with_ids/train/jointree_220707_kiosk_3_att/img1/000221.txt\n",
      "False\n",
      "./labels_with_ids/train/jointree_220707_kiosk_3_att/img1/000222.txt\n",
      "False\n",
      "./labels_with_ids/train/jointree_220707_kiosk_3_att/img1/000223.txt\n",
      "False\n",
      "./labels_with_ids/train/jointree_220707_kiosk_3_att/img1/000224.txt\n",
      "False\n",
      "./labels_with_ids/train/jointree_220707_kiosk_3_att/img1/000225.txt\n",
      "False\n",
      "./labels_with_ids/train/jointree_220707_kiosk_3_att/img1/000226.txt\n",
      "False\n",
      "./labels_with_ids/train/jointree_220707_kiosk_3_att/img1/000227.txt\n",
      "False\n",
      "./labels_with_ids/train/jointree_220707_kiosk_3_att/img1/000228.txt\n",
      "False\n",
      "./labels_with_ids/train/jointree_220707_kiosk_3_att/img1/000229.txt\n",
      "False\n",
      "./labels_with_ids/train/jointree_220707_kiosk_3_att/img1/000230.txt\n",
      "False\n",
      "./labels_with_ids/train/jointree_220707_kiosk_3_att/img1/000231.txt\n",
      "False\n",
      "./labels_with_ids/train/jointree_220707_kiosk_3_att/img1/000232.txt\n",
      "False\n",
      "./labels_with_ids/train/jointree_220707_kiosk_3_att/img1/000233.txt\n",
      "False\n",
      "./labels_with_ids/train/jointree_220707_kiosk_3_att/img1/000234.txt\n",
      "False\n",
      "./labels_with_ids/train/jointree_220707_kiosk_3_att/img1/000235.txt\n",
      "False\n",
      "./labels_with_ids/train/jointree_220707_kiosk_3_att/img1/000236.txt\n",
      "False\n",
      "./labels_with_ids/train/jointree_220707_kiosk_3_att/img1/000237.txt\n",
      "False\n"
     ]
    },
    {
     "ename": "error",
     "evalue": "OpenCV(4.2.0) /io/opencv/modules/imgcodecs/src/loadsave.cpp:715: error: (-215:Assertion failed) !_img.empty() in function 'imwrite'\n",
     "output_type": "error",
     "traceback": [
      "\u001b[0;31m---------------------------------------------------------------------------\u001b[0m",
      "\u001b[0;31merror\u001b[0m                                     Traceback (most recent call last)",
      "\u001b[0;32m<ipython-input-45-af00e7f6ed01>\u001b[0m in \u001b[0;36m<module>\u001b[0;34m\u001b[0m\n\u001b[1;32m     11\u001b[0m         \u001b[0msuccess\u001b[0m\u001b[0;34m,\u001b[0m\u001b[0mimage\u001b[0m \u001b[0;34m=\u001b[0m \u001b[0mvidcap\u001b[0m\u001b[0;34m.\u001b[0m\u001b[0mread\u001b[0m\u001b[0;34m(\u001b[0m\u001b[0;34m)\u001b[0m\u001b[0;34m\u001b[0m\u001b[0;34m\u001b[0m\u001b[0m\n\u001b[1;32m     12\u001b[0m         \u001b[0mstrr\u001b[0m\u001b[0;34m=\u001b[0m\u001b[0mos\u001b[0m\u001b[0;34m.\u001b[0m\u001b[0mpath\u001b[0m\u001b[0;34m.\u001b[0m\u001b[0mjoin\u001b[0m\u001b[0;34m(\u001b[0m\u001b[0mimg_loc\u001b[0m\u001b[0;34m,\u001b[0m\u001b[0;34m\"%06d.jpg\"\u001b[0m\u001b[0;34m%\u001b[0m\u001b[0;34m(\u001b[0m\u001b[0mcount\u001b[0m\u001b[0;34m+\u001b[0m\u001b[0;36m1\u001b[0m\u001b[0;34m)\u001b[0m\u001b[0;34m)\u001b[0m\u001b[0;34m\u001b[0m\u001b[0;34m\u001b[0m\u001b[0m\n\u001b[0;32m---> 13\u001b[0;31m         \u001b[0mcv2\u001b[0m\u001b[0;34m.\u001b[0m\u001b[0mimwrite\u001b[0m\u001b[0;34m(\u001b[0m\u001b[0mstrr\u001b[0m\u001b[0;34m,\u001b[0m \u001b[0mimage\u001b[0m\u001b[0;34m)\u001b[0m\u001b[0;34m\u001b[0m\u001b[0;34m\u001b[0m\u001b[0m\n\u001b[0m\u001b[1;32m     14\u001b[0m \u001b[0;34m\u001b[0m\u001b[0m\n\u001b[1;32m     15\u001b[0m         \u001b[0;32mif\u001b[0m \u001b[0mos\u001b[0m\u001b[0;34m.\u001b[0m\u001b[0mpath\u001b[0m\u001b[0;34m.\u001b[0m\u001b[0mexists\u001b[0m\u001b[0;34m(\u001b[0m\u001b[0mstrr\u001b[0m\u001b[0;34m.\u001b[0m\u001b[0mreplace\u001b[0m\u001b[0;34m(\u001b[0m\u001b[0;34m'jpg'\u001b[0m\u001b[0;34m,\u001b[0m\u001b[0;34m'txt'\u001b[0m\u001b[0;34m)\u001b[0m\u001b[0;34m.\u001b[0m\u001b[0mreplace\u001b[0m\u001b[0;34m(\u001b[0m\u001b[0;34m'images'\u001b[0m\u001b[0;34m,\u001b[0m\u001b[0;34m'labels_with_ids'\u001b[0m\u001b[0;34m)\u001b[0m\u001b[0;34m)\u001b[0m \u001b[0;34m:\u001b[0m\u001b[0;34m\u001b[0m\u001b[0;34m\u001b[0m\u001b[0m\n",
      "\u001b[0;31merror\u001b[0m: OpenCV(4.2.0) /io/opencv/modules/imgcodecs/src/loadsave.cpp:715: error: (-215:Assertion failed) !_img.empty() in function 'imwrite'\n"
     ]
    }
   ],
   "source": [
    "# !OPENCV_VIDEOIO_DEBUG=1\n",
    "import cv2\n",
    "vidcap = cv2.VideoCapture(video_loc)\n",
    "# vidcap = cv2.VideoCapture(\"/media/syh/hdd/data/20220715_keti_with_att/datas/cam-001/20220715150000_mp4/20220715150000.mp4\")\n",
    "\n",
    "count = 0\n",
    "pwd_=os.getcwd()\n",
    "with open(\"jointree_220707_cctv_1.all\", \"w\") as f:\n",
    "    success=True\n",
    "    while success:\n",
    "        success,image = vidcap.read()\n",
    "        strr=os.path.join(img_loc,\"%06d.jpg\"%(count+1))\n",
    "        cv2.imwrite(strr, image)  \n",
    "        \n",
    "        if os.path.exists(strr.replace('jpg','txt').replace('images','labels_with_ids')) :\n",
    "            cv2.imwrite(strr, image)   \n",
    "            f.write(os.path.join(os.path.join(pwd_,img_loc[2:]),\"%06d.jpg\\n\" % (count+1)))\n",
    "        else:\n",
    "            print(strr.replace('jpg','txt').replace('images','labels_with_ids'))\n",
    "            print(os.path.exists(strr.replace('jpg','txt').replace('images','labels_with_ids')))\n",
    "            \n",
    "        count += 1"
   ]
  },
  {
   "cell_type": "code",
   "execution_count": 34,
   "id": "ff8b782e-627d-4781-bed1-7232ad04e5bc",
   "metadata": {},
   "outputs": [
    {
     "data": {
      "text/plain": [
       "True"
      ]
     },
     "execution_count": 34,
     "metadata": {},
     "output_type": "execute_result"
    }
   ],
   "source": [
    "vidcap.isOpened()"
   ]
  },
  {
   "cell_type": "code",
   "execution_count": 35,
   "id": "fe30e53b-8650-4c25-badb-318b54904dc0",
   "metadata": {},
   "outputs": [],
   "source": [
    "h = int(vidcap.get(cv2.CAP_PROP_FOURCC))\n",
    "codec = chr(h&0xff) + chr((h>>8)&0xff) + chr((h>>16)&0xff) + chr((h>>24)&0xff)"
   ]
  },
  {
   "cell_type": "code",
   "execution_count": 36,
   "id": "5b2ae1fe-988a-42b4-b94d-0aa8c5b16976",
   "metadata": {},
   "outputs": [
    {
     "data": {
      "text/plain": [
       "'mp4v'"
      ]
     },
     "execution_count": 36,
     "metadata": {},
     "output_type": "execute_result"
    }
   ],
   "source": [
    "codec"
   ]
  },
  {
   "cell_type": "code",
   "execution_count": 37,
   "id": "e21a3939-2840-4de8-8486-14681d6e187a",
   "metadata": {},
   "outputs": [],
   "source": [
    "vidcap.release()"
   ]
  },
  {
   "cell_type": "code",
   "execution_count": null,
   "id": "72b7193e-f642-41c8-8664-349cdab1a5ab",
   "metadata": {},
   "outputs": [],
   "source": [
    "y\n"
   ]
  },
  {
   "cell_type": "code",
   "execution_count": null,
   "id": "1af5028b-599e-4cf9-aab0-1fd3720167b3",
   "metadata": {},
   "outputs": [],
   "source": []
  }
 ],
 "metadata": {
  "kernelspec": {
   "display_name": "Python 3",
   "language": "python",
   "name": "python3"
  },
  "language_info": {
   "codemirror_mode": {
    "name": "ipython",
    "version": 3
   },
   "file_extension": ".py",
   "mimetype": "text/x-python",
   "name": "python",
   "nbconvert_exporter": "python",
   "pygments_lexer": "ipython3",
   "version": "3.8.13"
  }
 },
 "nbformat": 4,
 "nbformat_minor": 5
}
