{
 "cells": [
  {
   "cell_type": "code",
   "execution_count": 1,
   "id": "81c1299c-561d-4230-9275-21e5e4143dc6",
   "metadata": {},
   "outputs": [],
   "source": [
    "import cv2"
   ]
  },
  {
   "cell_type": "code",
   "execution_count": 2,
   "id": "0092beaf-f762-4d66-b2b5-c0baba421026",
   "metadata": {},
   "outputs": [],
   "source": [
    "dirr='/media/syh/ssd2/data/20220715/datas/cam-001'\n"
   ]
  },
  {
   "cell_type": "code",
   "execution_count": null,
   "id": "88cd5c6c-387a-41cb-8ff7-c82c22329ab8",
   "metadata": {},
   "outputs": [],
   "source": [
    "\n",
    "dirr='/media/syh/hdd/data/from_keti_tool/20220808_infoworks/datas/cam-001/'\n"
   ]
  },
  {
   "cell_type": "code",
   "execution_count": null,
   "id": "20281699-dad1-4b87-a75d-febada2e9186",
   "metadata": {},
   "outputs": [],
   "source": []
  },
  {
   "cell_type": "code",
   "execution_count": 3,
   "id": "e80784da-69a4-47c3-ad83-5a9cf661c3b9",
   "metadata": {},
   "outputs": [
    {
     "name": "stdout",
     "output_type": "stream",
     "text": [
      "/media/syh/ssd2/data/keti_220715_cctv_2\n"
     ]
    }
   ],
   "source": [
    "!pwd"
   ]
  },
  {
   "cell_type": "code",
   "execution_count": null,
   "id": "84eac218-bfb5-4a98-a9c9-bacf53797c7e",
   "metadata": {},
   "outputs": [],
   "source": [
    "import cv2\n",
    "vidcap = cv2.VideoCapture('big_buck_bunny_720p_5mb.mp4')\n",
    "success,image = vidcap.read()\n",
    "count = 0\n",
    "while success:\n",
    "  cv2.imwrite(\"frame%d.jpg\" % count, image)     # save frame as JPEG file      \n",
    "  success,image = vidcap.read()\n",
    "  print('Read a new frame: ', success)\n",
    "  count += 1"
   ]
  },
  {
   "cell_type": "code",
   "execution_count": 2,
   "id": "4b4865cf-f6d9-4630-859e-dc6147bcf042",
   "metadata": {},
   "outputs": [
    {
     "ename": "error",
     "evalue": "OpenCV(4.6.0) /io/opencv/modules/imgcodecs/src/loadsave.cpp:801: error: (-215:Assertion failed) !_img.empty() in function 'imwrite'\n",
     "output_type": "error",
     "traceback": [
      "\u001b[0;31m---------------------------------------------------------------------------\u001b[0m",
      "\u001b[0;31merror\u001b[0m                                     Traceback (most recent call last)",
      "Input \u001b[0;32mIn [2]\u001b[0m, in \u001b[0;36m<cell line: 5>\u001b[0;34m()\u001b[0m\n\u001b[1;32m      7\u001b[0m \u001b[38;5;28;01mwhile\u001b[39;00m success:\n\u001b[1;32m      8\u001b[0m     success,image \u001b[38;5;241m=\u001b[39m vidcap\u001b[38;5;241m.\u001b[39mread()\n\u001b[0;32m----> 9\u001b[0m     \u001b[43mcv2\u001b[49m\u001b[38;5;241;43m.\u001b[39;49m\u001b[43mimwrite\u001b[49m\u001b[43m(\u001b[49m\u001b[38;5;124;43m\"\u001b[39;49m\u001b[38;5;124;43mimages/\u001b[39;49m\u001b[38;5;132;43;01m%06d\u001b[39;49;00m\u001b[38;5;124;43m.jpg\u001b[39;49m\u001b[38;5;124;43m\"\u001b[39;49m\u001b[38;5;241;43m%\u001b[39;49m\u001b[43m(\u001b[49m\u001b[43mcount\u001b[49m\u001b[38;5;241;43m+\u001b[39;49m\u001b[38;5;241;43m1\u001b[39;49m\u001b[43m)\u001b[49m\u001b[43m,\u001b[49m\u001b[43m \u001b[49m\u001b[43mimage\u001b[49m\u001b[43m)\u001b[49m            \n\u001b[1;32m     10\u001b[0m     f\u001b[38;5;241m.\u001b[39mwrite(\u001b[38;5;124m\"\u001b[39m\u001b[38;5;124m/media/syh/ssd2/data/keti_220715_cctv_3/images/train/keti_220715_cctv_3/img1/\u001b[39m\u001b[38;5;132;01m%06d\u001b[39;00m\u001b[38;5;124m.jpg\u001b[39m\u001b[38;5;130;01m\\n\u001b[39;00m\u001b[38;5;124m\"\u001b[39m \u001b[38;5;241m%\u001b[39m (count\u001b[38;5;241m+\u001b[39m\u001b[38;5;241m1\u001b[39m))\n\u001b[1;32m     11\u001b[0m     count \u001b[38;5;241m+\u001b[39m\u001b[38;5;241m=\u001b[39m \u001b[38;5;241m1\u001b[39m\n",
      "\u001b[0;31merror\u001b[0m: OpenCV(4.6.0) /io/opencv/modules/imgcodecs/src/loadsave.cpp:801: error: (-215:Assertion failed) !_img.empty() in function 'imwrite'\n"
     ]
    }
   ],
   "source": [
    "import cv2\n",
    "vidcap = cv2.VideoCapture('/media/syh/ssd2/data/20220715/datas/cam-001/20220715150000_mp4/20220715150000.mp4')\n",
    "count = 0\n",
    "\n",
    "with open(\"TextFile.txt\", \"w\") as f:\n",
    "    success=True\n",
    "    while success:\n",
    "        success,image = vidcap.read()\n",
    "        cv2.imwrite(\"images/%06d.jpg\"%(count+1), image)            \n",
    "        f.write(\"/media/syh/ssd2/data/keti_220715_cctv_3/images/train/keti_220715_cctv_3/img1/%06d.jpg\\n\" % (count+1))\n",
    "        count += 1"
   ]
  },
  {
   "cell_type": "code",
   "execution_count": null,
   "id": "fe04baa0-da60-484e-8db7-5417d8a8bb0f",
   "metadata": {},
   "outputs": [],
   "source": [
    "import cv2\n",
    "vidcap = cv2.VideoCapture('/media/syh/ssd2/data/20220715/datas/cam-003/20220715130000_mp4/20220715130000.mp4')\n",
    "success,image = vidcap.read()\n",
    "count = 0\n",
    "\n",
    "with open(\"TextFile.txt\", \"w\") as f:\n",
    "    while success:\n",
    "        success,image = vidcap.read()\n",
    "        f.write(\"/keti_220715_kiosk/imgs/train/keti_220715_kiosk/img1/%06d.jpg\\n\" % (count+1))\n",
    "        count += 1"
   ]
  },
  {
   "cell_type": "code",
   "execution_count": 8,
   "id": "c7f9f921-d094-444d-b8a0-1e9602df2541",
   "metadata": {},
   "outputs": [],
   "source": [
    "import json"
   ]
  },
  {
   "cell_type": "code",
   "execution_count": null,
   "id": "32ef30f3-87f2-4070-ad60-64c755231cfb",
   "metadata": {},
   "outputs": [],
   "source": []
  },
  {
   "cell_type": "code",
   "execution_count": null,
   "id": "c65efbdd-883e-49d1-b1fd-cc74e0d82839",
   "metadata": {},
   "outputs": [],
   "source": []
  },
  {
   "cell_type": "code",
   "execution_count": null,
   "id": "67236569-bb2d-4222-981e-d5849f3299c5",
   "metadata": {},
   "outputs": [],
   "source": []
  }
 ],
 "metadata": {
  "kernelspec": {
   "display_name": "Python 3 (ipykernel)",
   "language": "python",
   "name": "python3"
  },
  "language_info": {
   "codemirror_mode": {
    "name": "ipython",
    "version": 3
   },
   "file_extension": ".py",
   "mimetype": "text/x-python",
   "name": "python",
   "nbconvert_exporter": "python",
   "pygments_lexer": "ipython3",
   "version": "3.9.12"
  }
 },
 "nbformat": 4,
 "nbformat_minor": 5
}
