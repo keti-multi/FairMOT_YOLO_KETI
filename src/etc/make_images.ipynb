{
 "cells": [
  {
   "cell_type": "code",
   "execution_count": 38,
   "id": "81c1299c-561d-4230-9275-21e5e4143dc6",
   "metadata": {},
   "outputs": [
    {
     "data": {
      "text/plain": [
       "'/media/syh/ssd2/data/keti_220830_robot_1'"
      ]
     },
     "execution_count": 38,
     "metadata": {},
     "output_type": "execute_result"
    }
   ],
   "source": [
    "\n",
    "import os\n",
    "import cv2\n",
    "import os\n",
    "os.getcwd()"
   ]
  },
  {
   "cell_type": "code",
   "execution_count": 39,
   "id": "ce60ba0a-f889-4958-a9ee-866e445296dc",
   "metadata": {},
   "outputs": [],
   "source": [
    "dir_cam = '/media/syh/hdd/data/20220830_keti'"
   ]
  },
  {
   "cell_type": "code",
   "execution_count": null,
   "id": "ae2c61a0-76f4-4107-ab33-78058488337b",
   "metadata": {},
   "outputs": [],
   "source": []
  },
  {
   "cell_type": "code",
   "execution_count": null,
   "id": "8088a406-d701-43b6-bba7-2d639f205a28",
   "metadata": {},
   "outputs": [],
   "source": []
  },
  {
   "cell_type": "code",
   "execution_count": null,
   "id": "9f94da7b-b948-4e94-a638-7e0573218088",
   "metadata": {},
   "outputs": [],
   "source": []
  },
  {
   "cell_type": "code",
   "execution_count": 40,
   "id": "e13b09fd-816c-4c82-a84b-2f5a77278a9a",
   "metadata": {},
   "outputs": [],
   "source": [
    "device_id=\"robot\""
   ]
  },
  {
   "cell_type": "code",
   "execution_count": 41,
   "id": "369c1aa4-33cc-4147-8c4c-9ffea68e31cf",
   "metadata": {},
   "outputs": [],
   "source": [
    "cam_id=\"1\""
   ]
  },
  {
   "cell_type": "code",
   "execution_count": 42,
   "id": "98a05230-db63-4bf2-a3ef-e5cc2c89a601",
   "metadata": {},
   "outputs": [],
   "source": [
    "db_proj_name=dir_cam.split('/')[-1]+\"_\"+device_id+\"_\"+cam_id"
   ]
  },
  {
   "cell_type": "code",
   "execution_count": 43,
   "id": "12829129-3f24-45c3-9d1c-fc0b3bf79dbc",
   "metadata": {},
   "outputs": [
    {
     "data": {
      "text/plain": [
       "'20220830_keti_robot_1'"
      ]
     },
     "execution_count": 43,
     "metadata": {},
     "output_type": "execute_result"
    }
   ],
   "source": [
    "db_proj_name"
   ]
  },
  {
   "cell_type": "code",
   "execution_count": 44,
   "id": "c7c0dac3-9d5f-421d-81c5-1076ec5139b6",
   "metadata": {},
   "outputs": [],
   "source": [
    "# 220812 info_robo\n",
    "\n",
    "# dir_cam='/media/syh/hdd/data/from_keti_tool/20220808_infoworks'\n",
    "out_dir = os.getcwd()\n",
    "\n"
   ]
  },
  {
   "cell_type": "code",
   "execution_count": 45,
   "id": "efab477c-b92f-4dab-871f-1a9f8c518e3b",
   "metadata": {},
   "outputs": [],
   "source": [
    "# import pathlib\n",
    "# pathlib.Path(os.path.join(\"./labels_with_ids/train/\",db_proj_name,\"img1\")).mkdir(parents=True, exist_ok=True)\n",
    "# pathlib.Path(os.path.join(\"./labels_with_ids/train/\",db_proj_name,\"img1\").replace(\"labels_with_ids\",\"images\")).mkdir(parents=True, exist_ok=True)"
   ]
  },
  {
   "cell_type": "code",
   "execution_count": 46,
   "id": "f483f2c9-ba45-4e2c-8d0d-989c20a5c8a1",
   "metadata": {},
   "outputs": [],
   "source": [
    "label_loc=os.path.join(\"./labels_with_ids/train/\",db_proj_name,\"img1\")"
   ]
  },
  {
   "cell_type": "code",
   "execution_count": 47,
   "id": "a1f96d9d-b37c-4fce-93c2-4b2875d2c7ce",
   "metadata": {},
   "outputs": [],
   "source": [
    "img_loc=os.path.join(\"./labels_with_ids/train/\",db_proj_name,\"img1\").replace(\"labels_with_ids\",\"images\")"
   ]
  },
  {
   "cell_type": "code",
   "execution_count": 48,
   "id": "df0602a0-3b22-4b64-af61-292e1ff0b837",
   "metadata": {},
   "outputs": [
    {
     "data": {
      "text/plain": [
       "'./images/train/20220830_keti_robot_1/img1'"
      ]
     },
     "execution_count": 48,
     "metadata": {},
     "output_type": "execute_result"
    }
   ],
   "source": [
    "img_loc"
   ]
  },
  {
   "cell_type": "code",
   "execution_count": null,
   "id": "9b3bc1d2-cfe2-4ca0-9a3c-3ce477e74dfb",
   "metadata": {},
   "outputs": [
    {
     "data": {
      "text/plain": [
       "'./labels_with_ids/train/20220830_keti_robot_1/img1'"
      ]
     },
     "execution_count": 24,
     "metadata": {},
     "output_type": "execute_result"
    }
   ],
   "source": [
    "label_loc"
   ]
  },
  {
   "cell_type": "code",
   "execution_count": 45,
   "id": "2b16008f-5885-4a50-bc78-c053b25636cf",
   "metadata": {},
   "outputs": [],
   "source": []
  },
  {
   "cell_type": "code",
   "execution_count": null,
   "id": "1b4c36a0-9fc5-4abb-8247-4771ffbb5156",
   "metadata": {},
   "outputs": [],
   "source": []
  },
  {
   "cell_type": "code",
   "execution_count": 47,
   "id": "c97f461b-d7d0-43af-b8f8-ff9c3ec2b5a7",
   "metadata": {
    "tags": []
   },
   "outputs": [],
   "source": []
  },
  {
   "cell_type": "code",
   "execution_count": 48,
   "id": "e96917f9-e175-49d8-9b3c-69a523202e14",
   "metadata": {},
   "outputs": [
    {
     "data": {
      "text/plain": [
       "['20220715150000_mp4', '20220715130000_mp4', '20220715140000_mp4']"
      ]
     },
     "execution_count": 48,
     "metadata": {},
     "output_type": "execute_result"
    }
   ],
   "source": []
  },
  {
   "cell_type": "code",
   "execution_count": 49,
   "id": "a2ce3904-6070-418f-b8ca-4ad7a525d030",
   "metadata": {},
   "outputs": [],
   "source": [
    "# dirr=os.path.join(dir_cam,'datas/cam-001')"
   ]
  },
  {
   "cell_type": "code",
   "execution_count": 50,
   "id": "58dc1478-89a2-4007-b878-28a1789041bb",
   "metadata": {},
   "outputs": [
    {
     "data": {
      "text/plain": [
       "['20220715150000_mp4', '20220715130000.mp4', '20220715140000_mp4']"
      ]
     },
     "execution_count": 50,
     "metadata": {},
     "output_type": "execute_result"
    }
   ],
   "source": [
    "# videos=os.listdir(dirr)\n",
    "# print(\"videos:\",videos)"
   ]
  },
  {
   "cell_type": "code",
   "execution_count": 51,
   "id": "b9ba9701-796c-48d3-b4e1-3581a7574a33",
   "metadata": {},
   "outputs": [],
   "source": [
    "# videos[1]=videos[1].replace('_','.')\n",
    "# videos\n",
    "# dirr=os.path.join(dirr,os.listdir(dirr)[1])\n",
    "# print(\"dirr:\",dirr)\n",
    "# video_loc = os.path.join(dirr,videos[1])\n",
    "# os.path.exists(video_loc)\n",
    "# video_loc"
   ]
  },
  {
   "cell_type": "code",
   "execution_count": 53,
   "id": "8db69816-69b3-4d1e-86bf-3f057ac647b2",
   "metadata": {},
   "outputs": [],
   "source": []
  },
  {
   "cell_type": "code",
   "execution_count": 54,
   "id": "5225ed42-c6aa-4deb-9b95-db02ac155026",
   "metadata": {},
   "outputs": [
    {
     "data": {
      "text/plain": [
       "True"
      ]
     },
     "execution_count": 54,
     "metadata": {},
     "output_type": "execute_result"
    }
   ],
   "source": []
  },
  {
   "cell_type": "code",
   "execution_count": 56,
   "id": "fd5beb31-7949-4711-98b2-2bd06d8f2e97",
   "metadata": {},
   "outputs": [
    {
     "data": {
      "text/plain": [
       "'/media/syh/hdd/data/20220715_keti_with_att/datas/cam-001/20220715130000_mp4/20220715130000.mp4'"
      ]
     },
     "execution_count": 56,
     "metadata": {},
     "output_type": "execute_result"
    }
   ],
   "source": []
  },
  {
   "cell_type": "code",
   "execution_count": 55,
   "id": "e80784da-69a4-47c3-ad83-5a9cf661c3b9",
   "metadata": {},
   "outputs": [
    {
     "name": "stdout",
     "output_type": "stream",
     "text": [
      "/media/syh/ssd2/data/keti_220715_cctv_1_att\n"
     ]
    }
   ],
   "source": [
    "!pwd"
   ]
  },
  {
   "cell_type": "code",
   "execution_count": 50,
   "id": "4b4865cf-f6d9-4630-859e-dc6147bcf042",
   "metadata": {
    "tags": []
   },
   "outputs": [],
   "source": [
    "# !OPENCV_VIDEOIO_DEBUG=1\n",
    "import cv2\n",
    "# vidcap = cv2.VideoCapture(video_loc)\n",
    "# vidcap = cv2.VideoCapture(\"/media/syh/hdd/data/20220715_keti_with_att/datas/cam-001/20220715150000_mp4/20220715150000.mp4\")\n",
    "\n",
    "count = 0\n",
    "pwd_=os.getcwd()\n",
    "with open(\"keti_220830_robot_1_without_negative.all\", \"w\") as f:\n",
    "    success=True\n",
    "    while success:\n",
    "        # success,image = vidcap.read()\n",
    "        strr=os.path.join(img_loc,\"%06d.jpg\"%(count+1))\n",
    "        # cv2.imwrite(strr, image)  \n",
    "        \n",
    "        if os.path.exists(strr.replace('jpg','txt').replace('images','labels_with_ids')) :\n",
    "            #cv2.imwrite(strr, image)   \n",
    "            f.write(os.path.join(os.path.join(pwd_,img_loc[2:]),\"%06d.jpg\\n\" % (count+1)))\n",
    "        else:\n",
    "            if count>40000:\n",
    "                break\n",
    "            pass\n",
    "            # print(strr.replace('jpg','txt').replace('images','labels_with_ids'))\n",
    "            # print(os.path.exists(strr.replace('jpg','txt').replace('images','labels_with_ids')))\n",
    "        \n",
    "        count += 1"
   ]
  },
  {
   "cell_type": "code",
   "execution_count": 37,
   "id": "ff8b782e-627d-4781-bed1-7232ad04e5bc",
   "metadata": {},
   "outputs": [
    {
     "data": {
      "text/plain": [
       "44819522"
      ]
     },
     "execution_count": 37,
     "metadata": {},
     "output_type": "execute_result"
    }
   ],
   "source": [
    "count"
   ]
  },
  {
   "cell_type": "code",
   "execution_count": 35,
   "id": "fe30e53b-8650-4c25-badb-318b54904dc0",
   "metadata": {},
   "outputs": [],
   "source": [
    "h = int(vidcap.get(cv2.CAP_PROP_FOURCC))\n",
    "codec = chr(h&0xff) + chr((h>>8)&0xff) + chr((h>>16)&0xff) + chr((h>>24)&0xff)"
   ]
  },
  {
   "cell_type": "code",
   "execution_count": 36,
   "id": "5b2ae1fe-988a-42b4-b94d-0aa8c5b16976",
   "metadata": {},
   "outputs": [
    {
     "data": {
      "text/plain": [
       "'mp4v'"
      ]
     },
     "execution_count": 36,
     "metadata": {},
     "output_type": "execute_result"
    }
   ],
   "source": [
    "codec"
   ]
  },
  {
   "cell_type": "code",
   "execution_count": 37,
   "id": "e21a3939-2840-4de8-8486-14681d6e187a",
   "metadata": {},
   "outputs": [],
   "source": [
    "vidcap.release()"
   ]
  },
  {
   "cell_type": "code",
   "execution_count": null,
   "id": "72b7193e-f642-41c8-8664-349cdab1a5ab",
   "metadata": {},
   "outputs": [],
   "source": [
    "y\n"
   ]
  },
  {
   "cell_type": "code",
   "execution_count": null,
   "id": "1af5028b-599e-4cf9-aab0-1fd3720167b3",
   "metadata": {},
   "outputs": [],
   "source": []
  }
 ],
 "metadata": {
  "kernelspec": {
   "display_name": "Python 3",
   "language": "python",
   "name": "python3"
  },
  "language_info": {
   "codemirror_mode": {
    "name": "ipython",
    "version": 3
   },
   "file_extension": ".py",
   "mimetype": "text/x-python",
   "name": "python",
   "nbconvert_exporter": "python",
   "pygments_lexer": "ipython3",
   "version": "3.8.13"
  }
 },
 "nbformat": 4,
 "nbformat_minor": 5
}
